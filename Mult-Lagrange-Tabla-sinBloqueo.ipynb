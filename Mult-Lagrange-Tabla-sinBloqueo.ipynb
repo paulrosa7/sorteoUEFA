{
 "cells": [
  {
   "cell_type": "code",
   "execution_count": 15,
   "id": "46b16849-152a-4da2-84fc-afc5c8bb67fc",
   "metadata": {},
   "outputs": [
    {
     "data": {
      "text/plain": [
       "array([  0.22411584,   0.15291999,   0.22411584,   0.22411584,\n",
       "         0.1747325 ,   0.214384  ,   0.15483805,   0.2269269 ,\n",
       "         0.2269269 ,   0.17692415,   1.        ,   0.22545808,\n",
       "         0.16283626,   0.18606323,   0.42564243,   0.13138991,\n",
       "         0.1390771 ,   0.09489588,   0.1390771 ,   0.1390771 ,\n",
       "         0.10843182,   0.24805109,   0.214384  ,   0.2269269 ,\n",
       "         0.15483805,   0.2269269 ,   0.17692415,   0.18295327,\n",
       "         0.12483372,   0.18295327,   0.18295327,   0.32630648,\n",
       "         0.214384  ,   0.2269269 ,   0.15483805,   0.2269269 ,\n",
       "         0.17692415,   3.31049865,   3.29803377,  23.05697783,\n",
       "         3.24766835,   3.78763325,   3.29803377,   3.51343094,\n",
       "         3.29803377,  -2.75804731,  -2.81490642,  -2.43265823,\n",
       "        -2.81490642, -24.05697783,  -2.81490642,  -2.5659996 ,\n",
       "        -3.39351271])"
      ]
     },
     "execution_count": 15,
     "metadata": {},
     "output_type": "execute_result"
    }
   ],
   "source": [
    "from sympy import *\n",
    "import numpy as np\n",
    "from scipy.optimize import fsolve\n",
    "\n",
    "\n",
    "N=8\n",
    "posiciones_condiciones=[[0,7],[1,7],[3,1],[3,5],[5,7],[6,0],[7,3],[2,0],[2,1],[2,3],[2,5],[2,6],[2,7]]\n",
    "#posiciones_condiciones=[[0,1],[2,1]]\n",
    "\n",
    "\n",
    "\n",
    "def comprobar_condiciones(i,j,pos):\n",
    "    for t in range(len(pos)):\n",
    "        if pos[t][0]==i and pos[t][1]==j:\n",
    "            return 0\n",
    "    return 1\n",
    "\n",
    "def comprobar(i,j,pos):\n",
    "    for t in range(len(pos)):\n",
    "        if pos[t][0]==i and pos[t][1]==j:\n",
    "            return 0      \n",
    "    return 1\n",
    "\n",
    "def evitar_bloqueos(pos):\n",
    "    for i in range(N):\n",
    "        m1=m2=0\n",
    "        pos1=pos2=0\n",
    "        for j in range(N):\n",
    "            if i!=j and comprobar(i,j,pos):\n",
    "                m1+=1\n",
    "                pos1=j\n",
    "            if i!=j and comprobar(j,i,pos):\n",
    "                m2+=1\n",
    "                pos2=j\n",
    "        if m1==1:\n",
    "            for t in range(N):\n",
    "                if pos1!=t and comprobar_condiciones(t,pos1,pos) and i!=t:\n",
    "                    pos.append([t,pos1])\n",
    "        if m2==1:\n",
    "            for t in range(N):\n",
    "                if pos2!=t and comprobar_condiciones(pos2,t,pos) and i!=t:\n",
    "                    pos.append([pos2,t])   \n",
    "\n",
    "evitar_bloqueos(posiciones_condiciones)\n",
    "\n",
    "num_condiciones=len(posiciones_condiciones)\n",
    "num_condiciones_total=2*N\n",
    "NN=N**2-N-num_condiciones\n",
    "\n",
    "\n",
    "for i in range(N):\n",
    "    for j in range(N):\n",
    "        exec(f\"a{i}{j}=symbols('a{i}{j}')\")\n",
    "\n",
    "    \n",
    "for i in range(num_condiciones_total):\n",
    "    exec(f\"l{i}=symbols('l{i}')\")\n",
    "\n",
    "def orden(i,j):\n",
    "    s=0\n",
    "    for k in range(N):\n",
    "        for t in range(N):\n",
    "            if i==k and t==j:\n",
    "                return s\n",
    "            s+=1\n",
    "\n",
    "            \n",
    "           \n",
    "S=symbols('S')\n",
    "\n",
    "S=0\n",
    "media=0\n",
    "t=0\n",
    "for i in range(N):\n",
    "    for j in range(N):\n",
    "        if i!=j and comprobar(i,j,posiciones_condiciones):\n",
    "            exec(f\"media+=a{i}{j}\")\n",
    "            t+=1\n",
    "media=media/t\n",
    "\n",
    "for i in range(N):\n",
    "    for j in range(N):\n",
    "        if i!=j and comprobar(i,j,posiciones_condiciones):\n",
    "            #exec(f\"S=S+1/(NN-1)*(a{i}{j}-media)**2\")\n",
    "            exec(f\"S=S+a{i}{j}*log(a{i}{j})\")  \n",
    "    #xec(f\"S=S+l{i}*(a{i}{i})\")\n",
    "    \n",
    "#for i in range(num_condiciones):\n",
    "    #exec(f\"S=S+l{i+2*N}*(a{posiciones_condiciones[i][0]}{posiciones_condiciones[i][1]})\")\n",
    "\n",
    "        \n",
    "for i in range(N):\n",
    "    for j in range(N):\n",
    "        if i!=j and comprobar(i,j,posiciones_condiciones) :\n",
    "            exec(f\"S=S+l{i}*(a{i}{j})\")\n",
    "        if i!=j and comprobar(j,i,posiciones_condiciones):\n",
    "            exec(f\"S=S+l{i+N}*(a{j}{i})\")\n",
    "    exec(f\"S=S-l{i}-l{i+N}\")\n",
    "#for i in range(num_condiciones):\n",
    "    #exec(f\"S=S-l{posiciones_condiciones[i][0]}*a{posiciones_condiciones[i][0]}{posiciones_condiciones[i][1]}-l{posiciones_condiciones[i][0]+N}*a{posiciones_condiciones[i][0]}{posiciones_condiciones[i][1]}\")\n",
    "\n",
    "for i in range(N):\n",
    "    for j in range(N):\n",
    "        if i!=j and comprobar(i,j,posiciones_condiciones):\n",
    "            exec(f\"A{i}{j}=diff(S,a{i}{j})\")\n",
    "for i in range(num_condiciones_total):\n",
    "    exec(f\"B{i}=diff(S,l{i})\")\n",
    "\n",
    "def func(x):\n",
    "    sol=[]\n",
    "    for i in range(N):\n",
    "        for j in range(N):\n",
    "            if i!=j and comprobar(i,j,posiciones_condiciones):\n",
    "                exec(f\"sol.append(A{i}{j})\")\n",
    "    for i in range(num_condiciones_total):\n",
    "        exec(f\"sol.append(B{i})\")\n",
    "    for t in range(len(sol)):\n",
    "        m=0\n",
    "        for i in range(N):\n",
    "            for j in range(N):\n",
    "                if i!=j and comprobar(i,j,posiciones_condiciones):\n",
    "                    exec(f\"sol[t]=sol[t].subs(a{i}{j},\"+\"x[m]\"+\")\")\n",
    "                    m+=1\n",
    "\n",
    "        for i in range(num_condiciones_total):\n",
    "            exec(f\"sol[t]=sol[t].subs(l{i},x[NN+i])\")\n",
    "    return sol\n",
    "\n",
    "cond_ini=[]\n",
    "variables=[]\n",
    "for i in range(N):\n",
    "    for j in range(N):\n",
    "        if i!=j and comprobar(i,j,posiciones_condiciones):\n",
    "            exec(f\"variables.append(a{i}{j})\")\n",
    "for i in range(NN):\n",
    "    cond_ini.append(1/N)\n",
    "for i in range(num_condiciones_total):\n",
    "    cond_ini.append(0.1)\n",
    "    exec(f\"variables.append(l{i})\")\n",
    "    \n",
    "root=fsolve(func,cond_ini)\n",
    "\n",
    "   \n",
    "#root = nsolve(sol,variables, cond_ini)  \n",
    "root\n"
   ]
  },
  {
   "cell_type": "code",
   "execution_count": 16,
   "id": "53144eae-7062-4c7d-bb95-110731b13bd4",
   "metadata": {},
   "outputs": [
    {
     "name": "stdout",
     "output_type": "stream",
     "text": [
      "0\n",
      "0.22411583630238588\n",
      "0.15291999201115888\n",
      "0.22411583630238585\n",
      "0\n",
      "0.22411583630238593\n",
      "0.17473249908168342\n",
      "0\n",
      "\n",
      "0.21438400301187774\n",
      "0\n",
      "0.1548380513538499\n",
      "0.22692689761633447\n",
      "0\n",
      "0.22692689761633442\n",
      "0.1769241504016035\n",
      "0\n",
      "\n",
      "0\n",
      "0\n",
      "0\n",
      "0\n",
      "1.0\n",
      "0\n",
      "0\n",
      "0\n",
      "\n",
      "0.2254580787097457\n",
      "0\n",
      "0.16283626147395475\n",
      "0\n",
      "0\n",
      "0\n",
      "0.18606322518147514\n",
      "0.42564243463482443\n",
      "\n",
      "0.13138991225462118\n",
      "0.13907709879106253\n",
      "0.09489587700256133\n",
      "0.1390770987910625\n",
      "0\n",
      "0.1390770987910625\n",
      "0.10843182453203092\n",
      "0.24805108983759913\n",
      "\n",
      "0.21438400301187774\n",
      "0.22692689761633444\n",
      "0.15483805135384984\n",
      "0.22692689761633447\n",
      "0\n",
      "0\n",
      "0.1769241504016035\n",
      "0\n",
      "\n",
      "0\n",
      "0.18295326967388273\n",
      "0.12483371545077547\n",
      "0.18295326967388267\n",
      "0\n",
      "0.1829532696738827\n",
      "0\n",
      "0.3263064755275765\n",
      "\n",
      "0.21438400301187766\n",
      "0.22692689761633444\n",
      "0.15483805135384981\n",
      "0\n",
      "0\n",
      "0.22692689761633447\n",
      "0.1769241504016035\n",
      "0\n",
      "\n"
     ]
    }
   ],
   "source": [
    "m=0\n",
    "resultado=[]\n",
    "for i in range(N):\n",
    "    resultado2=[]\n",
    "    for j in range(N):\n",
    "        if i!=j and comprobar(i,j,posiciones_condiciones):\n",
    "            print(root[m])\n",
    "            resultado2.append(round(root[m],3))\n",
    "            m+=1\n",
    "        else:\n",
    "            resultado2.append(0)\n",
    "            print(0)\n",
    "    resultado.append(resultado2)\n",
    "    print(\"\")\n",
    "        "
   ]
  },
  {
   "cell_type": "code",
   "execution_count": 17,
   "id": "3650e4c7-cd0b-428c-ac5f-7272bcfc092f",
   "metadata": {},
   "outputs": [
    {
     "data": {
      "image/png": "[encoded data removed]",
      "text/plain": [
       "<Figure size 1116x612 with 1 Axes>"
      ]
     },
     "metadata": {
      "needs_background": "light"
     },
     "output_type": "display_data"
    }
   ],
   "source": [
    "import numpy as np\n",
    "import matplotlib.pyplot as plt\n",
    "\n",
    "plt.rcParams[\"figure.figsize\"] = [15.50, 8.50]\n",
    "plt.rcParams[\"figure.autolayout\"] = True\n",
    "\n",
    "fig, ax = plt.subplots()\n",
    "ax.matshow(resultado, cmap='summer')\n",
    "\n",
    "for i in range(N):\n",
    "    for j in range(N):\n",
    "        c = resultado[j][i]\n",
    "        ax.text(i, j, str(c), va='center', ha='center')\n",
    "\n",
    "plt.show()"
   ]
  },
  {
   "cell_type": "markdown",
   "id": "0942a199-f3e7-4901-ae26-8e3ff49bcbcf",
   "metadata": {},
   "source": [
    "func(cond_ini)"
   ]
  },
  {
   "cell_type": "code",
   "execution_count": 18,
   "id": "00bb55e9-5c65-4aab-8819-a7b6fc6e980b",
   "metadata": {},
   "outputs": [],
   "source": [
    "psm=ax.pcolormesh(resultado)"
   ]
  },
  {
   "cell_type": "code",
   "execution_count": 19,
   "id": "6414ba0c-fbaa-4097-a6c8-e18d19da50a1",
   "metadata": {},
   "outputs": [
    {
     "data": {
      "text/latex": [
       "$\\displaystyle a_{50} + a_{51} + a_{52} + a_{53} + a_{56} - 1$"
      ],
      "text/plain": [
       "a50 + a51 + a52 + a53 + a56 - 1"
      ]
     },
     "execution_count": 19,
     "metadata": {},
     "output_type": "execute_result"
    }
   ],
   "source": [
    "S.collect(l5).coeff(l5)"
   ]
  },
  {
   "cell_type": "code",
   "execution_count": null,
   "id": "0df08052-4aa1-402d-bcf2-f2e757ed23a6",
   "metadata": {},
   "outputs": [],
   "source": [
    "A12"
   ]
  },
  {
   "cell_type": "code",
   "execution_count": null,
   "id": "ac408634-9eb2-412c-92bc-ede91ee24252",
   "metadata": {},
   "outputs": [],
   "source": [
    "comprobar_condiciones(5,7)"
   ]
  },
  {
   "cell_type": "code",
   "execution_count": null,
   "id": "1a6ee43f-5490-4531-8fbb-60a4869b14c8",
   "metadata": {},
   "outputs": [],
   "source": [
    "evitar_bloqueos(posiciones_condiciones)"
   ]
  },
  {
   "cell_type": "code",
   "execution_count": null,
   "id": "7b84a0fa-7723-4d9e-a262-02ef5446ffa8",
   "metadata": {},
   "outputs": [],
   "source": [
    "posiciones_condiciones"
   ]
  },
  {
   "cell_type": "code",
   "execution_count": null,
   "id": "817c1eac-48fa-4dd7-9f06-82b6ae18d502",
   "metadata": {},
   "outputs": [],
   "source": [
    "num_condiciones"
   ]
  },
  {
   "cell_type": "code",
   "execution_count": 20,
   "id": "c5bcd73f-d029-4ead-b0bf-d427339e2f0b",
   "metadata": {},
   "outputs": [
    {
     "ename": "TypeError",
     "evalue": "'float' object cannot be interpreted as an integer",
     "output_type": "error",
     "traceback": [
      "\u001b[1;31m---------------------------------------------------------------------------\u001b[0m",
      "\u001b[1;31mTypeError\u001b[0m                                 Traceback (most recent call last)",
      "\u001b[1;32m~\\AppData\\Local\\Temp/ipykernel_15448/596210324.py\u001b[0m in \u001b[0;36m<module>\u001b[1;34m\u001b[0m\n\u001b[0;32m      2\u001b[0m \u001b[0ma\u001b[0m\u001b[1;33m=\u001b[0m\u001b[0mzeros\u001b[0m\u001b[1;33m(\u001b[0m\u001b[0mN\u001b[0m\u001b[1;33m,\u001b[0m\u001b[0mN\u001b[0m\u001b[1;33m)\u001b[0m\u001b[1;33m\u001b[0m\u001b[1;33m\u001b[0m\u001b[0m\n\u001b[0;32m      3\u001b[0m \u001b[1;32mfor\u001b[0m \u001b[0mi\u001b[0m \u001b[1;32min\u001b[0m \u001b[0mrange\u001b[0m\u001b[1;33m(\u001b[0m\u001b[0mN\u001b[0m\u001b[1;33m)\u001b[0m\u001b[1;33m:\u001b[0m\u001b[1;33m\u001b[0m\u001b[1;33m\u001b[0m\u001b[0m\n\u001b[1;32m----> 4\u001b[1;33m     \u001b[1;32mfor\u001b[0m \u001b[0mj\u001b[0m \u001b[1;32min\u001b[0m \u001b[0mrange\u001b[0m\u001b[1;33m(\u001b[0m\u001b[1;33m-\u001b[0m\u001b[0mN\u001b[0m\u001b[1;33m/\u001b[0m\u001b[1;36m2\u001b[0m\u001b[1;33m,\u001b[0m\u001b[0mN\u001b[0m\u001b[1;33m/\u001b[0m\u001b[1;36m2\u001b[0m\u001b[1;33m)\u001b[0m\u001b[1;33m:\u001b[0m\u001b[1;33m\u001b[0m\u001b[1;33m\u001b[0m\u001b[0m\n\u001b[0m\u001b[0;32m      5\u001b[0m         \u001b[0ma\u001b[0m\u001b[1;33m[\u001b[0m\u001b[0mi\u001b[0m\u001b[1;33m]\u001b[0m\u001b[1;33m[\u001b[0m\u001b[0mi\u001b[0m\u001b[1;33m+\u001b[0m\u001b[0mj\u001b[0m\u001b[1;33m]\u001b[0m\u001b[1;33m=\u001b[0m\u001b[1;36m1\u001b[0m\u001b[1;33m\u001b[0m\u001b[1;33m\u001b[0m\u001b[0m\n\u001b[0;32m      6\u001b[0m \u001b[1;33m\u001b[0m\u001b[0m\n",
      "\u001b[1;31mTypeError\u001b[0m: 'float' object cannot be interpreted as an integer"
     ]
    }
   ],
   "source": [
    "OMEGA=[]\n",
    "a=zeros(N,N)\n",
    "for i in range(N):\n",
    "    for j in range(int(-N/2),int(N/2)):\n",
    "        a[i][i+j]=1\n",
    "            "
   ]
  },
  {
   "cell_type": "code",
   "execution_count": null,
   "id": "c26b1ee1-b17c-4926-949c-65f78dcf4f46",
   "metadata": {},
   "outputs": [],
   "source": []
  }
 ],
 "metadata": {
  "kernelspec": {
   "display_name": "Python 3 (ipykernel)",
   "language": "python",
   "name": "python3"
  },
  "language_info": {
   "codemirror_mode": {
    "name": "ipython",
    "version": 3
   },
   "file_extension": ".py",
   "mimetype": "text/x-python",
   "name": "python",
   "nbconvert_exporter": "python",
   "pygments_lexer": "ipython3",
   "version": "3.8.5"
  }
 },
 "nbformat": 4,
 "nbformat_minor": 5
}
